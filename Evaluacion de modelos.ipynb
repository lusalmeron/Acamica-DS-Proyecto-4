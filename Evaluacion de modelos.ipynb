{
 "cells": [
  {
   "cell_type": "markdown",
   "metadata": {
    "id": "2GRQnxMzISE_"
   },
   "source": [
    "# Evaluación de modelos\n",
    "En este notebook están agrupados los procedimientos por los cuales se evaluaron algunos modelos de Machine Learning con las reviews lemmatizadas y stemmatizadas y valores predefinidos de hiperparámetros. \n",
    "\n",
    "**Los resultados y las conclusiones** de dicho análisis están detallados en el archivo: `Comparacion_lemma_stem.pdf`.\n",
    "\n",
    "De esta forma se ahorra tiempo en la ejecución del notebook principal del proyecto.\n",
    "\n",
    "### Importar las librerías necesarias"
   ]
  },
  {
   "cell_type": "code",
   "execution_count": 1,
   "metadata": {},
   "outputs": [],
   "source": [
    "import pandas as pd\n",
    "import numpy as np\n",
    "import matplotlib.pyplot as plt\n",
    "import seaborn as sns\n",
    "sns.set()\n",
    "\n",
    "# Garbage collector para optimizar recursos\n",
    "import gc\n",
    "\n",
    "# Clase para personalizar las impresiones de consola\n",
    "class color:\n",
    "   PURPLE = '\\033[95m'\n",
    "   CYAN = '\\033[96m'\n",
    "   DARKCYAN = '\\033[36m'\n",
    "   BLUE = '\\033[94m'\n",
    "   GREEN = '\\033[92m'\n",
    "   YELLOW = '\\033[93m'\n",
    "   RED = '\\033[91m'\n",
    "   BOLD = '\\033[1m'\n",
    "   UNDERLINE = '\\033[4m'\n",
    "   END = '\\033[0m'"
   ]
  },
  {
   "cell_type": "markdown",
   "metadata": {},
   "source": [
    "#### Importamos librerías SpaCy y NLTK\n",
    "\n",
    "Para el tratamiento de texto, las librerías que nos brindan las herramientas adecuadas son **SpaCy** y **NLTK**. Dependiendo de lo que se quiera hacer, utilizaremos una o la otra."
   ]
  },
  {
   "cell_type": "code",
   "execution_count": 2,
   "metadata": {},
   "outputs": [],
   "source": [
    "import spacy # https://spacy.io/usage/models\n",
    "nlp = spacy.load('en_core_web_md')\n",
    "\n",
    "#Stop Words de en_core_news_md\n",
    "from spacy.lang.en.stop_words import STOP_WORDS\n",
    "stopwords_spacy = list(STOP_WORDS)\n",
    "\n",
    "import nltk\n",
    "\n",
    "#Stop Words de nltk\n",
    "from nltk.corpus import stopwords\n",
    "stopwords_nltk = set(stopwords.words('english'))\n",
    "\n",
    "# Para manejo de resgitros de texto\n",
    "import re\n",
    "from nltk.tokenize import RegexpTokenizer\n",
    "\n",
    "#Constante de signos de puntuación\n",
    "import string\n",
    "puntua = string.punctuation + '#...'\n",
    "excluded_pos = ['SCONJ','CCONJ','NUM','PUNCT','PRON','DET','ADP','AUX','X','PROPN']"
   ]
  },
  {
   "cell_type": "markdown",
   "metadata": {},
   "source": [
    "## Importamos el dataset\n",
    "Importamos dataset que será utilizado para *train* y nos quedamos con las columnas relevantes."
   ]
  },
  {
   "cell_type": "markdown",
   "metadata": {},
   "source": [
    "<span style='color:red;'>**!! ACLARACIÓN:** En el notebook de <a href='https://github.com/lusalmeron/Acamica-DS-Proyecto-4/blob/main/Procesamiento_de_datasets.ipynb'>\"Procesamiento_de_datasets\"</a> se muestra el trabajo realizado para llegar a un único dataset filtrado por las columnas relevantes y que contengan también las lemmatizaciones y stemmizaciones de cada review concatenada a su título. **Ése es el set de datos que importamos para ahorrar tiempo de ejecución.**</span>"
   ]
  },
  {
   "cell_type": "code",
   "execution_count": 3,
   "metadata": {},
   "outputs": [
    {
     "name": "stdout",
     "output_type": "stream",
     "text": [
      "- Cantidad de filas \u001b[1mtotal\u001b[0m del set: 22628\n",
      "- Cantidad de filas \u001b[1mnulas\u001b[0m por columna:\n"
     ]
    },
    {
     "data": {
      "text/plain": [
       "class_name      0\n",
       "clothing_id     0\n",
       "usr_age         0\n",
       "review_title    0\n",
       "review_body     0\n",
       "rating          0\n",
       "recommended     0\n",
       "revs_lemma      0\n",
       "revs_stem       0\n",
       "dtype: int64"
      ]
     },
     "execution_count": 3,
     "metadata": {},
     "output_type": "execute_result"
    }
   ],
   "source": [
    "# Importamos dataset limpio\n",
    "data = pd.read_csv(\"data/dataset_clothes_clean.csv\")\n",
    "print(\"- Cantidad de filas \" + color.BOLD + \"total\" + color.END + \" del set:\", data.shape[0])\n",
    "print(\"- Cantidad de filas \" + color.BOLD + \"nulas\" + color.END + \" por columna:\")\n",
    "data.isna().sum()"
   ]
  },
  {
   "cell_type": "code",
   "execution_count": 4,
   "metadata": {},
   "outputs": [
    {
     "data": {
      "text/html": [
       "<div>\n",
       "<style scoped>\n",
       "    .dataframe tbody tr th:only-of-type {\n",
       "        vertical-align: middle;\n",
       "    }\n",
       "\n",
       "    .dataframe tbody tr th {\n",
       "        vertical-align: top;\n",
       "    }\n",
       "\n",
       "    .dataframe thead th {\n",
       "        text-align: right;\n",
       "    }\n",
       "</style>\n",
       "<table border=\"1\" class=\"dataframe\">\n",
       "  <thead>\n",
       "    <tr style=\"text-align: right;\">\n",
       "      <th></th>\n",
       "      <th>class_name</th>\n",
       "      <th>clothing_id</th>\n",
       "      <th>usr_age</th>\n",
       "      <th>review_title</th>\n",
       "      <th>review_body</th>\n",
       "      <th>rating</th>\n",
       "      <th>recommended</th>\n",
       "      <th>revs_lemma</th>\n",
       "      <th>revs_stem</th>\n",
       "    </tr>\n",
       "  </thead>\n",
       "  <tbody>\n",
       "    <tr>\n",
       "      <th>0</th>\n",
       "      <td>Intimates</td>\n",
       "      <td>767</td>\n",
       "      <td>33</td>\n",
       "      <td>-</td>\n",
       "      <td>Absolutely wonderful - silky and sexy and comf...</td>\n",
       "      <td>4</td>\n",
       "      <td>1</td>\n",
       "      <td>absolutely wonderful silky sexy comfortable</td>\n",
       "      <td>absolut wonder silki sexi comfort</td>\n",
       "    </tr>\n",
       "    <tr>\n",
       "      <th>1</th>\n",
       "      <td>Dresses</td>\n",
       "      <td>1080</td>\n",
       "      <td>34</td>\n",
       "      <td>-</td>\n",
       "      <td>Love this dress!  it's sooo pretty.  i happene...</td>\n",
       "      <td>5</td>\n",
       "      <td>1</td>\n",
       "      <td>love dress sooo pretty happen find store glad ...</td>\n",
       "      <td>love dress sooo pretti happen find store glad ...</td>\n",
       "    </tr>\n",
       "    <tr>\n",
       "      <th>2</th>\n",
       "      <td>Dresses</td>\n",
       "      <td>1077</td>\n",
       "      <td>60</td>\n",
       "      <td>Some major design flaws</td>\n",
       "      <td>I had such high hopes for this dress and reall...</td>\n",
       "      <td>3</td>\n",
       "      <td>0</td>\n",
       "      <td>major design flaw high hope dress want work in...</td>\n",
       "      <td>major design flaw high hope dress want work in...</td>\n",
       "    </tr>\n",
       "    <tr>\n",
       "      <th>3</th>\n",
       "      <td>Pants</td>\n",
       "      <td>1049</td>\n",
       "      <td>50</td>\n",
       "      <td>My favorite buy!</td>\n",
       "      <td>I love, love, love this jumpsuit. it's fun, fl...</td>\n",
       "      <td>5</td>\n",
       "      <td>1</td>\n",
       "      <td>favorite buy love love love jumpsuit fun flirt...</td>\n",
       "      <td>favorit buy love love love jumpsuit fun flirti...</td>\n",
       "    </tr>\n",
       "    <tr>\n",
       "      <th>4</th>\n",
       "      <td>Blouses</td>\n",
       "      <td>847</td>\n",
       "      <td>47</td>\n",
       "      <td>Flattering shirt</td>\n",
       "      <td>This shirt is very flattering to all due to th...</td>\n",
       "      <td>5</td>\n",
       "      <td>1</td>\n",
       "      <td>flattering shirt shirt flattering adjustable t...</td>\n",
       "      <td>flatter shirt shirt flatter adjust tie perfect...</td>\n",
       "    </tr>\n",
       "  </tbody>\n",
       "</table>\n",
       "</div>"
      ],
      "text/plain": [
       "  class_name  clothing_id  usr_age             review_title  \\\n",
       "0  Intimates          767       33                        -   \n",
       "1    Dresses         1080       34                        -   \n",
       "2    Dresses         1077       60  Some major design flaws   \n",
       "3      Pants         1049       50         My favorite buy!   \n",
       "4    Blouses          847       47         Flattering shirt   \n",
       "\n",
       "                                         review_body  rating  recommended  \\\n",
       "0  Absolutely wonderful - silky and sexy and comf...       4            1   \n",
       "1  Love this dress!  it's sooo pretty.  i happene...       5            1   \n",
       "2  I had such high hopes for this dress and reall...       3            0   \n",
       "3  I love, love, love this jumpsuit. it's fun, fl...       5            1   \n",
       "4  This shirt is very flattering to all due to th...       5            1   \n",
       "\n",
       "                                          revs_lemma  \\\n",
       "0        absolutely wonderful silky sexy comfortable   \n",
       "1  love dress sooo pretty happen find store glad ...   \n",
       "2  major design flaw high hope dress want work in...   \n",
       "3  favorite buy love love love jumpsuit fun flirt...   \n",
       "4  flattering shirt shirt flattering adjustable t...   \n",
       "\n",
       "                                           revs_stem  \n",
       "0                  absolut wonder silki sexi comfort  \n",
       "1  love dress sooo pretti happen find store glad ...  \n",
       "2  major design flaw high hope dress want work in...  \n",
       "3  favorit buy love love love jumpsuit fun flirti...  \n",
       "4  flatter shirt shirt flatter adjust tie perfect...  "
      ]
     },
     "execution_count": 4,
     "metadata": {},
     "output_type": "execute_result"
    }
   ],
   "source": [
    "data.head()"
   ]
  },
  {
   "cell_type": "markdown",
   "metadata": {},
   "source": [
    "## Vectorización\n",
    "### Importar y crear vectorizador"
   ]
  },
  {
   "cell_type": "code",
   "execution_count": 5,
   "metadata": {},
   "outputs": [],
   "source": [
    "from sklearn.feature_extraction.text import TfidfVectorizer\n",
    "max_features=10000 # Determina máximo de palabras que toma para hacer la matriz\n",
    "min_df = 0.0001 # Toma todas las palabras que tengan este mínimo de frecuencia\n",
    "ngram_range = (1,1) # (1,1) || (1,2) || (2,2)\n",
    "\n",
    "tfidf = TfidfVectorizer(max_features=max_features, min_df=min_df,ngram_range=ngram_range)"
   ]
  },
  {
   "cell_type": "markdown",
   "metadata": {},
   "source": [
    "### Separamos datasets lemma y stem"
   ]
  },
  {
   "cell_type": "code",
   "execution_count": 6,
   "metadata": {},
   "outputs": [
    {
     "data": {
      "text/html": [
       "<div>\n",
       "<style scoped>\n",
       "    .dataframe tbody tr th:only-of-type {\n",
       "        vertical-align: middle;\n",
       "    }\n",
       "\n",
       "    .dataframe tbody tr th {\n",
       "        vertical-align: top;\n",
       "    }\n",
       "\n",
       "    .dataframe thead th {\n",
       "        text-align: right;\n",
       "    }\n",
       "</style>\n",
       "<table border=\"1\" class=\"dataframe\">\n",
       "  <thead>\n",
       "    <tr style=\"text-align: right;\">\n",
       "      <th></th>\n",
       "      <th>class_name</th>\n",
       "      <th>usr_age</th>\n",
       "      <th>revs_lemma</th>\n",
       "      <th>rating</th>\n",
       "      <th>recommended</th>\n",
       "    </tr>\n",
       "  </thead>\n",
       "  <tbody>\n",
       "    <tr>\n",
       "      <th>0</th>\n",
       "      <td>Intimates</td>\n",
       "      <td>33</td>\n",
       "      <td>absolutely wonderful silky sexy comfortable</td>\n",
       "      <td>4</td>\n",
       "      <td>1</td>\n",
       "    </tr>\n",
       "    <tr>\n",
       "      <th>1</th>\n",
       "      <td>Dresses</td>\n",
       "      <td>34</td>\n",
       "      <td>love dress sooo pretty happen find store glad ...</td>\n",
       "      <td>5</td>\n",
       "      <td>1</td>\n",
       "    </tr>\n",
       "    <tr>\n",
       "      <th>2</th>\n",
       "      <td>Dresses</td>\n",
       "      <td>60</td>\n",
       "      <td>major design flaw high hope dress want work in...</td>\n",
       "      <td>3</td>\n",
       "      <td>0</td>\n",
       "    </tr>\n",
       "    <tr>\n",
       "      <th>3</th>\n",
       "      <td>Pants</td>\n",
       "      <td>50</td>\n",
       "      <td>favorite buy love love love jumpsuit fun flirt...</td>\n",
       "      <td>5</td>\n",
       "      <td>1</td>\n",
       "    </tr>\n",
       "    <tr>\n",
       "      <th>4</th>\n",
       "      <td>Blouses</td>\n",
       "      <td>47</td>\n",
       "      <td>flattering shirt shirt flattering adjustable t...</td>\n",
       "      <td>5</td>\n",
       "      <td>1</td>\n",
       "    </tr>\n",
       "  </tbody>\n",
       "</table>\n",
       "</div>"
      ],
      "text/plain": [
       "  class_name  usr_age                                         revs_lemma  \\\n",
       "0  Intimates       33        absolutely wonderful silky sexy comfortable   \n",
       "1    Dresses       34  love dress sooo pretty happen find store glad ...   \n",
       "2    Dresses       60  major design flaw high hope dress want work in...   \n",
       "3      Pants       50  favorite buy love love love jumpsuit fun flirt...   \n",
       "4    Blouses       47  flattering shirt shirt flattering adjustable t...   \n",
       "\n",
       "   rating  recommended  \n",
       "0       4            1  \n",
       "1       5            1  \n",
       "2       3            0  \n",
       "3       5            1  \n",
       "4       5            1  "
      ]
     },
     "execution_count": 6,
     "metadata": {},
     "output_type": "execute_result"
    }
   ],
   "source": [
    "# Columnas de interés del dataset LEMMA\n",
    "data.loc[:,('class_name','usr_age','revs_lemma','rating','recommended')].head()"
   ]
  },
  {
   "cell_type": "code",
   "execution_count": 7,
   "metadata": {},
   "outputs": [
    {
     "data": {
      "text/html": [
       "<div>\n",
       "<style scoped>\n",
       "    .dataframe tbody tr th:only-of-type {\n",
       "        vertical-align: middle;\n",
       "    }\n",
       "\n",
       "    .dataframe tbody tr th {\n",
       "        vertical-align: top;\n",
       "    }\n",
       "\n",
       "    .dataframe thead th {\n",
       "        text-align: right;\n",
       "    }\n",
       "</style>\n",
       "<table border=\"1\" class=\"dataframe\">\n",
       "  <thead>\n",
       "    <tr style=\"text-align: right;\">\n",
       "      <th></th>\n",
       "      <th>class_name</th>\n",
       "      <th>usr_age</th>\n",
       "      <th>revs_stem</th>\n",
       "      <th>rating</th>\n",
       "      <th>recommended</th>\n",
       "    </tr>\n",
       "  </thead>\n",
       "  <tbody>\n",
       "    <tr>\n",
       "      <th>0</th>\n",
       "      <td>Intimates</td>\n",
       "      <td>33</td>\n",
       "      <td>absolut wonder silki sexi comfort</td>\n",
       "      <td>4</td>\n",
       "      <td>1</td>\n",
       "    </tr>\n",
       "    <tr>\n",
       "      <th>1</th>\n",
       "      <td>Dresses</td>\n",
       "      <td>34</td>\n",
       "      <td>love dress sooo pretti happen find store glad ...</td>\n",
       "      <td>5</td>\n",
       "      <td>1</td>\n",
       "    </tr>\n",
       "    <tr>\n",
       "      <th>2</th>\n",
       "      <td>Dresses</td>\n",
       "      <td>60</td>\n",
       "      <td>major design flaw high hope dress want work in...</td>\n",
       "      <td>3</td>\n",
       "      <td>0</td>\n",
       "    </tr>\n",
       "    <tr>\n",
       "      <th>3</th>\n",
       "      <td>Pants</td>\n",
       "      <td>50</td>\n",
       "      <td>favorit buy love love love jumpsuit fun flirti...</td>\n",
       "      <td>5</td>\n",
       "      <td>1</td>\n",
       "    </tr>\n",
       "    <tr>\n",
       "      <th>4</th>\n",
       "      <td>Blouses</td>\n",
       "      <td>47</td>\n",
       "      <td>flatter shirt shirt flatter adjust tie perfect...</td>\n",
       "      <td>5</td>\n",
       "      <td>1</td>\n",
       "    </tr>\n",
       "  </tbody>\n",
       "</table>\n",
       "</div>"
      ],
      "text/plain": [
       "  class_name  usr_age                                          revs_stem  \\\n",
       "0  Intimates       33                  absolut wonder silki sexi comfort   \n",
       "1    Dresses       34  love dress sooo pretti happen find store glad ...   \n",
       "2    Dresses       60  major design flaw high hope dress want work in...   \n",
       "3      Pants       50  favorit buy love love love jumpsuit fun flirti...   \n",
       "4    Blouses       47  flatter shirt shirt flatter adjust tie perfect...   \n",
       "\n",
       "   rating  recommended  \n",
       "0       4            1  \n",
       "1       5            1  \n",
       "2       3            0  \n",
       "3       5            1  \n",
       "4       5            1  "
      ]
     },
     "execution_count": 7,
     "metadata": {},
     "output_type": "execute_result"
    }
   ],
   "source": [
    "# Columnas de interés del dataset STEM\n",
    "data.loc[:,('class_name','usr_age','revs_stem','rating','recommended')].head()"
   ]
  },
  {
   "cell_type": "markdown",
   "metadata": {},
   "source": [
    "Probamos primero con las reviews **lemmatizadas**, pero bien podría cambiarse por las **stemmizadas** comentando y descomentando líneas.\n",
    "\n",
    "En primera instancia, entrenamos el modelo con sólo las reseñas, pero podría probarse agregar otros atributos si mejora el desempeño."
   ]
  },
  {
   "cell_type": "code",
   "execution_count": 8,
   "metadata": {},
   "outputs": [
    {
     "data": {
      "text/plain": [
       "['absolutely wonderful silky sexy comfortable',\n",
       " 'love dress sooo pretty happen find store glad order online petite buy petite love length me- hit little knee definitely true midi truly petite',\n",
       " 'major design flaw high hope dress want work initially order petite small usual size find outrageously small small fact zip reorder petite medium overall half comfortable fit nicely half tight layer somewhat cheap net layer imo major design flaw net layer sew directly zipper',\n",
       " 'favorite buy love love love jumpsuit fun flirty fabulous time wear great compliment',\n",
       " 'flattering shirt shirt flattering adjustable tie perfect length wear legging sleeveless pair cardigan love shirt']"
      ]
     },
     "execution_count": 8,
     "metadata": {},
     "output_type": "execute_result"
    }
   ],
   "source": [
    "## LEMMA\n",
    "list_revs = list(data[('revs_lemma')].values)\n",
    "recom = data['recommended'].values\n",
    "\n",
    "## STEM\n",
    "# list_revs = list(data['revs_stem'].values)\n",
    "# recom = data['recommended'].values\n",
    "\n",
    "list_revs[:5]"
   ]
  },
  {
   "cell_type": "markdown",
   "metadata": {},
   "source": [
    "### Train-Test split de los datos\n",
    "Usaremos el 70% para entrenamiento y el 30% para prueba. Luego vectorizaremos cada set por separado para evitar *data leaks*."
   ]
  },
  {
   "cell_type": "code",
   "execution_count": 9,
   "metadata": {},
   "outputs": [
    {
     "name": "stdout",
     "output_type": "stream",
     "text": [
      "- Tamaño del set de \u001b[96mentrenamiento:\u001b[1m 15839 \u001b[0m\n",
      "- Tamaño del set de \u001b[92mprueba:\u001b[1m 6789 \u001b[0m\n",
      "- Algunos \u001b[1mejemplos\u001b[0m del set de entrenamiento:\n"
     ]
    },
    {
     "data": {
      "text/plain": [
       "['love unusual print cut work get round sway dress look twice big actually shaping help adjust curve sad',\n",
       " 'love love love dress absolutely layered cloud material amazingly soft comfy',\n",
       " 'fit perfect sleeve little tight uncomfortably wish little room look picture love shirt super cute comfy get compliment',\n",
       " 'comfy cute grab pair pant sale glad material soft lightweight-- ideal summer fit loose true size standard pair pant',\n",
       " 'gorgeous comfy barely rarely find maxi far long extreme prefer barely reach ground oppose rise inch floor example perfect flat sandal try chuckle long try perfect length bodice fit glove average bust size fluctuate generally flat chested prefer conservative sleeveless dress']"
      ]
     },
     "execution_count": 9,
     "metadata": {},
     "output_type": "execute_result"
    }
   ],
   "source": [
    "from sklearn.model_selection import train_test_split\n",
    "X_train, X_test, ytrain, ytest = train_test_split(list_revs,recom,test_size=0.3,random_state=42,stratify=recom)\n",
    "print(\"- Tamaño del set de \" + color.CYAN + \"entrenamiento:\" + color.BOLD, len(X_train), color.END)\n",
    "print(\"- Tamaño del set de \" + color.GREEN + \"prueba:\" + color.BOLD, len(X_test),color.END)\n",
    "print(\"- Algunos \" + color.BOLD + \"ejemplos\" + color.END + \" del set de entrenamiento:\")\n",
    "X_train[:5]"
   ]
  },
  {
   "cell_type": "markdown",
   "metadata": {},
   "source": [
    "### Generación de la matriz"
   ]
  },
  {
   "cell_type": "code",
   "execution_count": 10,
   "metadata": {},
   "outputs": [
    {
     "data": {
      "text/plain": [
       "<15839x5245 sparse matrix of type '<class 'numpy.float64'>'\n",
       "\twith 354308 stored elements in Compressed Sparse Row format>"
      ]
     },
     "execution_count": 10,
     "metadata": {},
     "output_type": "execute_result"
    }
   ],
   "source": [
    "# Ajustamos el vectorizador y transformamos los datos de entrenamiento\n",
    "matriz_train = tfidf.fit_transform(X_train)\n",
    "matriz_train"
   ]
  },
  {
   "cell_type": "code",
   "execution_count": 11,
   "metadata": {},
   "outputs": [
    {
     "name": "stdout",
     "output_type": "stream",
     "text": [
      "Palabras más usadas: ['00p', '10', '10p', '10th', '12', '12p', '130', '138', '140', '145', '155lb', '16', '1960', '1980', '1st', '20', '20th', '24p', '25', '25p', '26', '27', '27p', '28', '29', '29p', '2nd', '30', '30d', '30dd', '30f', '32', '32a', '32b', '32c', '32d', '32dd', '32ddd', '32e', '32f', '33', '34', '34a', '34aa', '34b', '34c', '34d', '34dd', '34ddd', '34f', '35', '36a', '36b', '36c', '36d', '36dd', '36ddd', '37ish', '38', '38c', '38d', '3rd', '40', '40d', '40th', '4th', '50', '50th', '5ft2', '5th', '60', '60th', '6th', '70', '80', '90', '95lb', 'ab', 'abdomen', 'ability', 'able', 'abo', 'abroad', 'abso', 'absolute', 'absolutely', 'absolutly', 'abstract', 'absurd', 'abt', 'abundance', 'accent', 'accentuate', 'accept', 'acceptable', 'access', 'accessorize', 'accessorizing', 'accessory', 'accident', 'accidental', 'accidentally', 'accommodate', 'accomodate', 'accomplish', 'accord', 'accordingly', 'account', 'accurate', 'accurately', 'achieve', 'ack', 'acrylic', 'act', 'active', 'activewear', 'activity', 'actual', 'actuality', 'actually', 'ada', 'add', 'addicted', 'addition', 'additional', 'additionally', 'address', 'adequate', 'adequately', 'adjust', 'adjustable', 'adjusting', 'adjustment', 'admire', 'admit', 'admittedly', 'adn', 'ador', 'adorable', 'adore', 'adorn', 'adult', 'advantage', 'adventure', 'advertise', 'advice', 'advise', 'aesthetic', 'aesthetically', 'affair', 'affect', 'afford', 'affordable', 'aforementioned', 'afraid', 'afternoon', 'afterward', 'again', 'age', 'aged', 'aggressive', 'agin', 'agitate', 'ago', 'agree', 'agreement', 'ags', 'ahd', 'ahead', 'ahoy', 'ahs', 'ahve', 'aid', 'air', 'airiness', 'airplane', 'airy', 'aize', 'aka', 'akemi', 'alas', 'alaska', 'align', 'alignment', 'alike', 'aline', 'all', 'allergic', 'alleviate', 'alley', 'allow', 'allowing', 'alluring', 'allusion', 'almost', 'alot', 'alpaca', 'already', 'alright', 'also']\n"
     ]
    }
   ],
   "source": [
    "# Vemos las palabras utilizadas (ordenadas alfabéticamente)\n",
    "all_words = tfidf.get_feature_names()\n",
    "print(\"Palabras más usadas:\",all_words[:200])"
   ]
  },
  {
   "cell_type": "code",
   "execution_count": 12,
   "metadata": {},
   "outputs": [
    {
     "data": {
      "text/plain": [
       "<6789x5245 sparse matrix of type '<class 'numpy.float64'>'\n",
       "\twith 150894 stored elements in Compressed Sparse Row format>"
      ]
     },
     "execution_count": 12,
     "metadata": {},
     "output_type": "execute_result"
    }
   ],
   "source": [
    "# Transformamos los datos de prueba en base al vectorizador ya entrenado\n",
    "matriz_test = tfidf.transform(X_test)\n",
    "matriz_test"
   ]
  },
  {
   "cell_type": "markdown",
   "metadata": {},
   "source": [
    "## Modelización\n",
    "Prpobamos distintos modelos para la clasificación."
   ]
  },
  {
   "cell_type": "code",
   "execution_count": 13,
   "metadata": {},
   "outputs": [],
   "source": [
    "# Importamos modelos\n",
    "from sklearn.naive_bayes import GaussianNB\n",
    "from sklearn.ensemble import RandomForestClassifier\n",
    "from sklearn.svm import SVC\n",
    "from sklearn.svm import LinearSVC"
   ]
  },
  {
   "cell_type": "code",
   "execution_count": 14,
   "metadata": {},
   "outputs": [
    {
     "data": {
      "text/plain": [
       "array([[0., 0., 0., ..., 0., 0., 0.],\n",
       "       [0., 0., 0., ..., 0., 0., 0.],\n",
       "       [0., 0., 0., ..., 0., 0., 0.],\n",
       "       ...,\n",
       "       [0., 0., 0., ..., 0., 0., 0.],\n",
       "       [0., 0., 0., ..., 0., 0., 0.],\n",
       "       [0., 0., 0., ..., 0., 0., 0.]])"
      ]
     },
     "execution_count": 14,
     "metadata": {},
     "output_type": "execute_result"
    }
   ],
   "source": [
    "xtrain = matriz_train.toarray()\n",
    "xtest = matriz_test.toarray()\n",
    "\n",
    "# Para la validación cruzada neceitamos el set entero\n",
    "X = tfidf.transform(list_revs)\n",
    "X = X.toarray()\n",
    "y = recom\n",
    "X"
   ]
  },
  {
   "cell_type": "markdown",
   "metadata": {},
   "source": [
    "#### Métricas de evluación"
   ]
  },
  {
   "cell_type": "code",
   "execution_count": 15,
   "metadata": {},
   "outputs": [],
   "source": [
    "from sklearn.metrics import classification_report # Para un reporte con precision, recall y f1_score\n",
    "from sklearn.metrics import accuracy_score"
   ]
  },
  {
   "cell_type": "markdown",
   "metadata": {},
   "source": [
    "Vamos a utilizar el **accuracy score** para evaluar en general la precisión del multiclasificador, ya que genera un promedio entre todas las clases (que en nuestro dataset están balancedas en cantidad) y hace un ajuste entre *precisión* y *recall*. \n",
    "\n",
    "Como complemento, utilizaremos el **Calssification report** para ver cómo varían la precisión y el recall por clase.\n",
    "\n",
    "También elaboramos función para visualizar la **matriz de confusión** de cada modelo."
   ]
  },
  {
   "cell_type": "code",
   "execution_count": 16,
   "metadata": {},
   "outputs": [],
   "source": [
    "from sklearn.metrics import confusion_matrix\n",
    "\n",
    "def confusion(ytest,y_pred):\n",
    "    names=[\"No Recomendado\",\"Recomendado\"]\n",
    "    cm=confusion_matrix(ytest,y_pred)\n",
    "    f,ax=plt.subplots(figsize=(7,7))\n",
    "    sns.heatmap(cm,annot=True,linewidth=.5,linecolor=\"r\",fmt=\".0f\",ax=ax)\n",
    "    plt.xlabel(\"y_pred\")\n",
    "    plt.ylabel(\"y_true\")\n",
    "    ax.set_xticklabels(names)\n",
    "    ax.set_yticklabels(names)\n",
    "    plt.show()\n",
    "\n",
    "    return"
   ]
  },
  {
   "cell_type": "markdown",
   "metadata": {},
   "source": [
    "### Validación cruzada"
   ]
  },
  {
   "cell_type": "code",
   "execution_count": 25,
   "metadata": {},
   "outputs": [],
   "source": [
    "from sklearn.model_selection import cross_val_score\n",
    "from sklearn.model_selection import cross_validate\n",
    "\n",
    "def k_validacion_cruzada(model,x,y,k):\n",
    "    scores = cross_val_score(model, x, y, cv=k)\n",
    "    print(\"%0.2f de precisión con desviación estándar de %0.2f\" % (scores.mean(), scores.std()))"
   ]
  },
  {
   "cell_type": "markdown",
   "metadata": {},
   "source": [
    "### Naive Bayes - Modelo Benchmark"
   ]
  },
  {
   "cell_type": "code",
   "execution_count": 19,
   "metadata": {},
   "outputs": [
    {
     "name": "stdout",
     "output_type": "stream",
     "text": [
      "\u001b[1mAccuracy : \u001b[0m 0.41036971571660036\n"
     ]
    }
   ],
   "source": [
    "nb = GaussianNB()\n",
    "nb.fit(X=xtrain,y=ytrain)\n",
    "\n",
    "y_pred = nb.predict(xtest)\n",
    "print(color.BOLD + 'Accuracy : ' + color.END, accuracy_score(ytest,y_pred))"
   ]
  },
  {
   "cell_type": "code",
   "execution_count": 26,
   "metadata": {},
   "outputs": [
    {
     "name": "stdout",
     "output_type": "stream",
     "text": [
      "\u001b[1mValidación cruzada:\u001b[0m\n",
      "0.40 de precisión con desviación estándar de 0.01\n"
     ]
    }
   ],
   "source": [
    "print(color.BOLD + 'Validación cruzada:' + color.END)\n",
    "k_validacion_cruzada(nb,X,recom,5)"
   ]
  },
  {
   "cell_type": "code",
   "execution_count": 21,
   "metadata": {},
   "outputs": [
    {
     "name": "stdout",
     "output_type": "stream",
     "text": [
      "\u001b[1mReporte de clasificación : \u001b[0m\n",
      " \n",
      "               precision    recall  f1-score   support\n",
      "\n",
      "      No Rec       0.20      0.78      0.32      1230\n",
      "         Rec       0.87      0.33      0.48      5559\n",
      "\n",
      "    accuracy                           0.41      6789\n",
      "   macro avg       0.54      0.56      0.40      6789\n",
      "weighted avg       0.75      0.41      0.45      6789\n",
      "\n"
     ]
    }
   ],
   "source": [
    "print(color.BOLD + 'Reporte de clasificación : '+ color.END + '\\n \\n' ,classification_report(ytest, y_pred, target_names=['No Rec','Rec']))"
   ]
  },
  {
   "cell_type": "markdown",
   "metadata": {},
   "source": [
    "*Las métricas del reporte se ven explicadas en la matriz de confusión.*\n",
    "\n",
    "**Accuracy:** De todos los predichos de una clase, qué porcentaje realmente pertenece a ella.<br>\n",
    "**Recall:** De todos los que son de una clase, qué porcentaje predijo correctamente."
   ]
  },
  {
   "cell_type": "code",
   "execution_count": 28,
   "metadata": {},
   "outputs": [
    {
     "name": "stdout",
     "output_type": "stream",
     "text": [
      "\u001b[1mMatriz de confusión : \u001b[0m\n"
     ]
    },
    {
     "data": {
      "image/png": "[encoded data removed]",
      "text/plain": [
       "<Figure size 504x504 with 2 Axes>"
      ]
     },
     "metadata": {},
     "output_type": "display_data"
    }
   ],
   "source": [
    "print(color.BOLD + 'Matriz de confusión : '+ color.END)\n",
    "confusion(ytest,y_pred)"
   ]
  },
  {
   "cell_type": "markdown",
   "metadata": {},
   "source": [
    "### Random Forest"
   ]
  },
  {
   "cell_type": "code",
   "execution_count": 29,
   "metadata": {},
   "outputs": [
    {
     "name": "stdout",
     "output_type": "stream",
     "text": [
      "\u001b[1mAccuracy : \u001b[0m 0.8750920606864044\n"
     ]
    }
   ],
   "source": [
    "rf = RandomForestClassifier()\n",
    "rf.fit(xtrain,ytrain)\n",
    "\n",
    "y_pred = rf.predict(xtest)\n",
    "print(color.BOLD + 'Accuracy : ' + color.END, accuracy_score(ytest, y_pred))"
   ]
  },
  {
   "cell_type": "code",
   "execution_count": 30,
   "metadata": {},
   "outputs": [
    {
     "name": "stdout",
     "output_type": "stream",
     "text": [
      "\u001b[1mValidación cruzada:\u001b[0m\n",
      "0.87 de precisión con desviación estándar de 0.00\n"
     ]
    }
   ],
   "source": [
    "# La validación cruzada demora unos 5 minutos aprox\n",
    "print(color.BOLD + 'Validación cruzada:' + color.END)\n",
    "k_validacion_cruzada(rf,X,recom,3) # Se ponen menos folds porque si no demora mucho"
   ]
  },
  {
   "cell_type": "code",
   "execution_count": 31,
   "metadata": {},
   "outputs": [
    {
     "name": "stdout",
     "output_type": "stream",
     "text": [
      "\u001b[1mReporte de clasificación : \u001b[0m\n",
      " \n",
      "               precision    recall  f1-score   support\n",
      "\n",
      "      No Rec       0.84      0.38      0.52      1230\n",
      "         Rec       0.88      0.98      0.93      5559\n",
      "\n",
      "    accuracy                           0.88      6789\n",
      "   macro avg       0.86      0.68      0.73      6789\n",
      "weighted avg       0.87      0.88      0.86      6789\n",
      "\n"
     ]
    }
   ],
   "source": [
    "print(color.BOLD + 'Reporte de clasificación : '+ color.END + '\\n \\n' ,classification_report(ytest, y_pred, target_names=['No Rec','Rec']))"
   ]
  },
  {
   "cell_type": "markdown",
   "metadata": {},
   "source": [
    "*Las métricas del reporte se ven explicadas en la matriz de confusión.*"
   ]
  },
  {
   "cell_type": "code",
   "execution_count": 32,
   "metadata": {},
   "outputs": [
    {
     "name": "stdout",
     "output_type": "stream",
     "text": [
      "\u001b[1mMatriz de confusión : \u001b[0m\n"
     ]
    },
    {
     "data": {
      "image/png": "[encoded data removed]",
      "text/plain": [
       "<Figure size 504x504 with 2 Axes>"
      ]
     },
     "metadata": {},
     "output_type": "display_data"
    }
   ],
   "source": [
    "print(color.BOLD + 'Matriz de confusión : '+ color.END)\n",
    "confusion(ytest,y_pred)"
   ]
  },
  {
   "cell_type": "markdown",
   "metadata": {},
   "source": [
    "#### Feature importances\n",
    "Algo muy bueno de Random Forest es que puede indicar la importancia de los features que se usan para clasificar. Veamos en este caso cuáles son las palabras que mayormente determinan el el valor de una review para este clasificador."
   ]
  },
  {
   "cell_type": "code",
   "execution_count": 33,
   "metadata": {},
   "outputs": [
    {
     "data": {
      "image/png": "[encoded data removed]",
      "text/plain": [
       "<Figure size 1080x576 with 1 Axes>"
      ]
     },
     "metadata": {},
     "output_type": "display_data"
    }
   ],
   "source": [
    "# Le preguntamos la importancia de cada feature (cada palabra)\n",
    "importances = rf.feature_importances_\n",
    "# Tomamos la lista de palabras\n",
    "all_words = tfidf.get_feature_names()\n",
    "columns = all_words\n",
    "\n",
    "# Ordenamos por importnacia y tomamos las 20 primeras\n",
    "indices = np.argsort(importances)[::-1]\n",
    "indices = indices[:20]\n",
    "selected_columns = [columns[i] for i in indices] # \n",
    "selected_importances = importances[indices] # \n",
    "\n",
    "# Por ultimo graficamos\n",
    "plt.figure(figsize = (15,8))\n",
    "plt.title(label='Feature importances',pad=20)\n",
    "grafico = sns.barplot(x=selected_columns, y=selected_importances,palette='rocket_r')\n",
    "grafico.set_xticklabels(grafico.get_xticklabels(), rotation=45, ha=\"right\")\n",
    "plt.show()"
   ]
  },
  {
   "cell_type": "markdown",
   "metadata": {},
   "source": [
    "### SVM"
   ]
  },
  {
   "cell_type": "code",
   "execution_count": 27,
   "metadata": {},
   "outputs": [
    {
     "name": "stdout",
     "output_type": "stream",
     "text": [
      "\u001b[1mAccuracy : \u001b[0m 0.9019001325673884\n"
     ]
    }
   ],
   "source": [
    "# En vez de utilizar SVC, vamos a usar LinearSVC, \n",
    "# ya que para el Kernel Lineal esta función es MUCHO mas rapida que la tradicional SVC.\n",
    "\n",
    "svc = LinearSVC(C = 1)\n",
    "svc.fit(xtrain,ytrain)\n",
    "\n",
    "y_pred = svc.predict(xtest)\n",
    "print(color.BOLD + 'Accuracy : ' + color.END, accuracy_score(ytest, y_pred))"
   ]
  },
  {
   "cell_type": "code",
   "execution_count": 28,
   "metadata": {},
   "outputs": [
    {
     "name": "stdout",
     "output_type": "stream",
     "text": [
      "\u001b[1mValidación cruzada:\u001b[0m\n",
      "0.90 de precisión con desviación estándar de 0.00\n"
     ]
    }
   ],
   "source": [
    "print(color.BOLD + 'Validación cruzada:' + color.END)\n",
    "k_validacion_cruzada(svc,X,recom,5)"
   ]
  },
  {
   "cell_type": "code",
   "execution_count": 24,
   "metadata": {},
   "outputs": [
    {
     "name": "stdout",
     "output_type": "stream",
     "text": [
      "\u001b[1mReporte de clasificación : \u001b[0m\n",
      " \n",
      "               precision    recall  f1-score   support\n",
      "\n",
      "      No Rec       0.77      0.65      0.71      1230\n",
      "         Rec       0.93      0.96      0.94      5559\n",
      "\n",
      "    accuracy                           0.90      6789\n",
      "   macro avg       0.85      0.80      0.82      6789\n",
      "weighted avg       0.90      0.90      0.90      6789\n",
      "\n"
     ]
    }
   ],
   "source": [
    "print(color.BOLD + 'Reporte de clasificación : '+ color.END + '\\n \\n' ,classification_report(ytest, y_pred, target_names=['No Rec','Rec']))"
   ]
  },
  {
   "cell_type": "markdown",
   "metadata": {},
   "source": [
    "*Las métricas del reporte se ven explicadas en la matriz de confusión.*"
   ]
  },
  {
   "cell_type": "code",
   "execution_count": 37,
   "metadata": {},
   "outputs": [
    {
     "name": "stdout",
     "output_type": "stream",
     "text": [
      "\u001b[1mMatriz de confusión : \u001b[0m\n"
     ]
    },
    {
     "data": {
      "image/png": "[encoded data removed]",
      "text/plain": [
       "<Figure size 504x504 with 2 Axes>"
      ]
     },
     "metadata": {},
     "output_type": "display_data"
    }
   ],
   "source": [
    "print(color.BOLD + 'Matriz de confusión : '+ color.END)\n",
    "confusion(ytest,y_pred)"
   ]
  },
  {
   "cell_type": "markdown",
   "metadata": {},
   "source": [
    "### Comparación modelos `Lemma` vs `Stem`\n",
    "\n",
    "- El benchmark con el dataset stemmizado es apenas mejor que el dataset lemmatizado cuando se incluyen bigramas: entre 70 y 74% por sobre aprox 40% para sólo monogramas. De todas formas son valores mejorables.\n",
    "- El Random Forest es parejo con el accuracy con el dataset stemmizado y el lemmatizado. Sin embargo, empeora su recall de la clase no recomendada.\n",
    "- El SVC, en ambos casos, es el que tiene el mejor rendimiento. Analizando en profundidad, el SVC con el dataset lema tiene mejor precisión y recall en todas las clases.\n",
    "\n",
    "La comparación más extensiva está en este documento: <https://github.com/lusalmeron/Acamica-DS-Proyecto-4/blob/main/Comparacion_lemma_stem.pdf>\n",
    "\n",
    "### Conclusión: SVC con dataset lemma y monogramas\n",
    "Por su rendimiento general y en cada clase en partiuclar, buscaremos optimizar este modelo para aumentar su accuracy."
   ]
  },
  {
   "cell_type": "code",
   "execution_count": null,
   "metadata": {},
   "outputs": [],
   "source": []
  }
 ],
 "metadata": {
  "colab": {
   "collapsed_sections": [],
   "name": "DS_Proyecto_03_NLP.ipynb",
   "provenance": []
  },
  "kernelspec": {
   "display_name": "Python 3",
   "language": "python",
   "name": "python3"
  },
  "language_info": {
   "codemirror_mode": {
    "name": "ipython",
    "version": 3
   },
   "file_extension": ".py",
   "mimetype": "text/x-python",
   "name": "python",
   "nbconvert_exporter": "python",
   "pygments_lexer": "ipython3",
   "version": "3.8.6"
  }
 },
 "nbformat": 4,
 "nbformat_minor": 4
}
